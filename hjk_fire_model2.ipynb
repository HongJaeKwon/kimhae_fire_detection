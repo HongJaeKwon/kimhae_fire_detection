{
  "nbformat": 4,
  "nbformat_minor": 0,
  "metadata": {
    "colab": {
      "name": "hjk_fire_model2.ipynb",
      "provenance": [],
      "include_colab_link": true
    },
    "kernelspec": {
      "name": "python3",
      "display_name": "Python 3"
    },
    "accelerator": "GPU"
  },
  "cells": [
    {
      "cell_type": "markdown",
      "metadata": {
        "id": "view-in-github",
        "colab_type": "text"
      },
      "source": [
        "<a href=\"https://colab.research.google.com/github/HongJaeKwon/kimhae_fire_detection/blob/master/hjk_fire_model2.ipynb\" target=\"_parent\"><img src=\"https://colab.research.google.com/assets/colab-badge.svg\" alt=\"Open In Colab\"/></a>"
      ]
    },
    {
      "cell_type": "code",
      "metadata": {
        "id": "SV04BaxB-Lp4",
        "colab_type": "code",
        "colab": {
          "base_uri": "https://localhost:8080/",
          "height": 128
        },
        "outputId": "95d09ddd-60fe-4338-80e3-557e0ac5f3ee"
      },
      "source": [
        "# 구글 드라이브 마운트\n",
        "from google.colab import drive\n",
        "drive.mount('/gdrive', force_remount=True)\n",
        "# /gdrive/My Drive/ (폴더명)"
      ],
      "execution_count": 2,
      "outputs": [
        {
          "output_type": "stream",
          "text": [
            "Go to this URL in a browser: https://accounts.google.com/o/oauth2/auth?client_id=947318989803-6bn6qk8qdgf4n4g3pfee6491hc0brc4i.apps.googleusercontent.com&redirect_uri=urn%3aietf%3awg%3aoauth%3a2.0%3aoob&response_type=code&scope=email%20https%3a%2f%2fwww.googleapis.com%2fauth%2fdocs.test%20https%3a%2f%2fwww.googleapis.com%2fauth%2fdrive%20https%3a%2f%2fwww.googleapis.com%2fauth%2fdrive.photos.readonly%20https%3a%2f%2fwww.googleapis.com%2fauth%2fpeopleapi.readonly\n",
            "\n",
            "Enter your authorization code:\n",
            "··········\n",
            "Mounted at /gdrive\n"
          ],
          "name": "stdout"
        }
      ]
    },
    {
      "cell_type": "code",
      "metadata": {
        "id": "BaCe39CJ-V64",
        "colab_type": "code",
        "colab": {}
      },
      "source": [
        "import numpy as np\n",
        "import pandas as pd\n",
        "import warnings\n",
        "from sklearn.tree import DecisionTreeClassifier\n",
        "from sklearn.metrics import f1_score, accuracy_score, precision_score, recall_score\n",
        "from sklearn.discriminant_analysis import LinearDiscriminantAnalysis\n",
        "from  sklearn.ensemble import RandomForestClassifier\n",
        "from sklearn.linear_model import LogisticRegression\n",
        "import xgboost as xgb\n",
        "from sklearn.naive_bayes import GaussianNB\n",
        "from sklearn.svm import LinearSVC\n",
        "from sklearn.discriminant_analysis import QuadraticDiscriminantAnalysis\n",
        "from tensorflow.python import keras\n",
        "from tensorflow.python.keras import backend as K\n",
        "from tensorflow.python.keras import losses\n",
        "from tensorflow.python.keras.optimizers import Adam\n",
        "from tensorflow.python.keras.models import Sequential, Model, load_model\n",
        "from tensorflow.python.keras.layers import Conv2D, Conv2DTranspose, Activation, Flatten, Dense, UpSampling2D, Reshape, Lambda, Input,BatchNormalization, Dropout, LeakyReLU\n",
        "from tensorflow.python.keras.preprocessing.image import ImageDataGenerator, Iterator\n",
        "from tensorflow.python.keras.preprocessing.image import img_to_array, array_to_img\n",
        "from tensorflow.python.keras.losses import mean_absolute_error\n",
        "warnings.filterwarnings(action='ignore') \n",
        "from tqdm import tqdm\n",
        "import cv2\n",
        "from google.colab.patches import cv2_imshow\n",
        "from PIL import Image\n",
        "import matplotlib.pyplot as plt"
      ],
      "execution_count": 0,
      "outputs": []
    },
    {
      "cell_type": "code",
      "metadata": {
        "id": "jTa8Qtqr-YA7",
        "colab_type": "code",
        "colab": {}
      },
      "source": [
        "def recall_m(y_true, y_pred):\n",
        "    true_positives = K.sum(K.round(K.clip(y_true * y_pred, 0, 1)))\n",
        "    possible_positives = K.sum(K.round(K.clip(y_true, 0, 1)))\n",
        "    recall = true_positives / (possible_positives + K.epsilon())\n",
        "    return recall\n",
        "\n",
        "def precision_m(y_true, y_pred):\n",
        "    true_positives = K.sum(K.round(K.clip(y_true * y_pred, 0, 1)))\n",
        "    predicted_positives = K.sum(K.round(K.clip(y_pred, 0, 1)))\n",
        "    precision = true_positives / (predicted_positives + K.epsilon())\n",
        "    return precision\n",
        "\n",
        "def f1_m(y_true, y_pred):\n",
        "    precision = precision_m(y_true, y_pred)\n",
        "    recall = recall_m(y_true, y_pred)\n",
        "    return 2*((precision*recall)/(precision+recall+K.epsilon()))\n",
        "\n",
        "def hjk_loss(y_true,y_pred):\n",
        "    bce = 3*y_true * K.log(y_pred + K.epsilon())\n",
        "    bce += (1 - y_true) * K.log(1 - y_pred + K.epsilon())\n",
        "    return -bce\n",
        "\n",
        "def f1_loss(y_true, y_pred):\n",
        "    tp = K.sum(K.cast(y_true*y_pred, 'float'), axis=0)\n",
        "    tn = K.sum(K.cast((1-y_true)*(1-y_pred), 'float'), axis=0)\n",
        "    fp = K.sum(K.cast((1-y_true)*y_pred, 'float'), axis=0)\n",
        "    fn = K.sum(K.cast(y_true*(1-y_pred), 'float'), axis=0)\n",
        "    p = tp / (tp + fp + K.epsilon())\n",
        "    r = tp / (tp + fn + K.epsilon())\n",
        "    f1 = 2*p*r / (p+r+K.epsilon())\n",
        "    f1 = K.clip(f1,K.epsilon(),1-K.epsilon())\n",
        "    return 1 - K.mean(f1)   "
      ],
      "execution_count": 0,
      "outputs": []
    },
    {
      "cell_type": "code",
      "metadata": {
        "id": "J3XkPBCT-sKg",
        "colab_type": "code",
        "colab": {}
      },
      "source": [
        "def build_encoder():\n",
        "    model=Sequential()\n",
        "    model.add(Dense(32*32,activation='relu',input_shape=(436,)))\n",
        "    model.add(Reshape((32,32,1)))\n",
        "    model.add(Conv2D(2, 3, activation='elu', strides=2, padding='same'))\n",
        "    model.add(Conv2D(4, 3, activation='elu', strides=2, padding='same'))\n",
        "    model.add(Conv2D(8, 3, activation='elu', strides=2, padding='same'))\n",
        "    return model\n",
        "\n",
        "def build_decoder():\n",
        "    model=Sequential()\n",
        "    model.add(Conv2D(4, 3, activation='elu', padding='same'))\n",
        "    model.add(UpSampling2D())\n",
        "    model.add(LeakyReLU(0.2))\n",
        "    model.add(Conv2D(2, 3, activation='elu', padding='same'))\n",
        "    model.add(UpSampling2D())\n",
        "    model.add(LeakyReLU(0.2))\n",
        "    model.add(Conv2D(1, 3, activation='elu', padding='same'))\n",
        "    model.add(UpSampling2D())\n",
        "    model.add(LeakyReLU(0.2))\n",
        "    model.add(Flatten())\n",
        "    model.add(Dense(436,activation='sigmoid'))\n",
        "    return model"
      ],
      "execution_count": 0,
      "outputs": []
    },
    {
      "cell_type": "code",
      "metadata": {
        "id": "_QiDuMtf-evT",
        "colab_type": "code",
        "colab": {}
      },
      "source": [
        "all_DF= pd.read_csv('/gdrive/My Drive/김해화재/all_DF.csv',index_col=0)\n",
        "# train :59199\n",
        "# val : 6898\n",
        "# test : 2957"
      ],
      "execution_count": 0,
      "outputs": []
    },
    {
      "cell_type": "code",
      "metadata": {
        "id": "6fQQADQh-hQa",
        "colab_type": "code",
        "colab": {}
      },
      "source": [
        "train_DF=all_DF[:59199]\n",
        "val_DF=all_DF[59199:59199+6898]\n",
        "test_DF=all_DF[all_DF['LABEL']==-1]\n",
        "\n",
        "train_DF_Y=train_DF['LABEL']\n",
        "val_DF_Y=val_DF['LABEL']\n",
        "train_DF_normal=train_DF[train_DF['LABEL']==0]\n",
        "train_DF_fire=train_DF[train_DF['LABEL']==1]\n",
        "\n",
        "train_DF=train_DF.drop('LABEL', axis = 1)\n",
        "val_DF=val_DF.drop('LABEL', axis = 1)\n",
        "test_DF=test_DF.drop('LABEL', axis = 1)\n",
        "\n",
        "train_DF_normal=train_DF_normal.drop('LABEL', axis = 1)\n",
        "train_DF_fire=train_DF_fire.drop('LABEL', axis = 1)\n",
        "\n",
        "train_DF_1=train_DF[:30000]\n",
        "train_DF_Y_1=train_DF_Y[:30000]\n",
        "train_DF_2=train_DF[30000:]\n",
        "train_DF_Y_2=train_DF_Y[30000:]\n",
        "\n",
        "col_list=train_DF.columns.to_list()"
      ],
      "execution_count": 0,
      "outputs": []
    },
    {
      "cell_type": "code",
      "metadata": {
        "id": "A2-U14v2-zL-",
        "colab_type": "code",
        "colab": {}
      },
      "source": [
        "encoder = build_encoder()\n",
        "decoder = build_decoder()\n",
        "AE_model=Sequential((encoder, decoder))\n",
        "AE_model.compile(loss='mse',optimizer=Adam(0.001))\n",
        "fire_inputs = Input((436,))\n",
        "non_fire_inputs = Input((436,))\n",
        "fire_outputs = AE_model(fire_inputs)\n",
        "non_fire_outputs = AE_model(non_fire_inputs)\n",
        "\n",
        "AE_trainer=Model(inputs=[fire_inputs, non_fire_inputs],outputs=[fire_outputs, non_fire_outputs])\n",
        "AE_trainer.compile(loss=['mse', 'mse'], loss_weights=[1., -1.0], optimizer=Adam(0.001))\n",
        "\n",
        "def AE_train(fire,non_fire,epochs = 10, batch_size=16):\n",
        "    batch_count =fire.shape[0]//batch_size\n",
        "        \n",
        "    for e in range(1, epochs+1):\n",
        "        for _ in tqdm(range(batch_count)):\n",
        "            fire_batch = fire[np.random.randint(0, fire.shape[0], size=batch_size)]\n",
        "            non_fire_batch = non_fire[np.random.randint(0, non_fire.shape[0], size=batch_size)]\n",
        "            _,fire_loss, non_fire_loss = AE_trainer.train_on_batch([fire_batch, non_fire_batch], [fire_batch, non_fire_batch])\n",
        "        print(\"\")\n",
        "        print(\"fire_loss\", fire_loss)\n",
        "        print(\"non_fire_loss\", non_fire_loss)"
      ],
      "execution_count": 0,
      "outputs": []
    },
    {
      "cell_type": "code",
      "metadata": {
        "id": "vJfOLPDZ_2Ri",
        "colab_type": "code",
        "colab": {
          "base_uri": "https://localhost:8080/",
          "height": 745
        },
        "outputId": "f030e215-cd12-4a80-a361-6b8054c1679b"
      },
      "source": [
        "AE_train(train_DF_fire.as_matrix(),train_DF_normal.as_matrix())"
      ],
      "execution_count": 34,
      "outputs": [
        {
          "output_type": "stream",
          "text": [
            "100%|██████████| 478/478 [00:07<00:00, 86.59it/s]\n",
            "  2%|▏         | 9/478 [00:00<00:05, 86.86it/s]"
          ],
          "name": "stderr"
        },
        {
          "output_type": "stream",
          "text": [
            "\n",
            "fire_loss 0.1418605\n",
            "non_fire_loss 0.7315351\n"
          ],
          "name": "stdout"
        },
        {
          "output_type": "stream",
          "text": [
            "100%|██████████| 478/478 [00:05<00:00, 89.65it/s]\n",
            "  2%|▏         | 10/478 [00:00<00:05, 93.37it/s]"
          ],
          "name": "stderr"
        },
        {
          "output_type": "stream",
          "text": [
            "\n",
            "fire_loss 0.0832212\n",
            "non_fire_loss 0.4973465\n"
          ],
          "name": "stdout"
        },
        {
          "output_type": "stream",
          "text": [
            "100%|██████████| 478/478 [00:05<00:00, 88.55it/s]\n",
            "  2%|▏         | 10/478 [00:00<00:04, 93.86it/s]"
          ],
          "name": "stderr"
        },
        {
          "output_type": "stream",
          "text": [
            "\n",
            "fire_loss 0.26060984\n",
            "non_fire_loss 0.72882736\n"
          ],
          "name": "stdout"
        },
        {
          "output_type": "stream",
          "text": [
            "100%|██████████| 478/478 [00:05<00:00, 90.23it/s]\n",
            "  2%|▏         | 10/478 [00:00<00:04, 96.89it/s]"
          ],
          "name": "stderr"
        },
        {
          "output_type": "stream",
          "text": [
            "\n",
            "fire_loss 0.31776327\n",
            "non_fire_loss 0.45345208\n"
          ],
          "name": "stdout"
        },
        {
          "output_type": "stream",
          "text": [
            "100%|██████████| 478/478 [00:05<00:00, 91.22it/s]\n",
            "  2%|▏         | 10/478 [00:00<00:05, 91.80it/s]"
          ],
          "name": "stderr"
        },
        {
          "output_type": "stream",
          "text": [
            "\n",
            "fire_loss 0.082881734\n",
            "non_fire_loss 0.60114175\n"
          ],
          "name": "stdout"
        },
        {
          "output_type": "stream",
          "text": [
            "100%|██████████| 478/478 [00:05<00:00, 88.04it/s]\n",
            "  2%|▏         | 10/478 [00:00<00:04, 95.88it/s]"
          ],
          "name": "stderr"
        },
        {
          "output_type": "stream",
          "text": [
            "\n",
            "fire_loss 0.082482964\n",
            "non_fire_loss 0.49251348\n"
          ],
          "name": "stdout"
        },
        {
          "output_type": "stream",
          "text": [
            "100%|██████████| 478/478 [00:05<00:00, 89.95it/s]\n",
            "  2%|▏         | 10/478 [00:00<00:04, 96.97it/s]"
          ],
          "name": "stderr"
        },
        {
          "output_type": "stream",
          "text": [
            "\n",
            "fire_loss 0.14940368\n",
            "non_fire_loss 0.6012794\n"
          ],
          "name": "stdout"
        },
        {
          "output_type": "stream",
          "text": [
            "100%|██████████| 478/478 [00:05<00:00, 89.84it/s]\n",
            "  2%|▏         | 10/478 [00:00<00:05, 90.30it/s]"
          ],
          "name": "stderr"
        },
        {
          "output_type": "stream",
          "text": [
            "\n",
            "fire_loss 0.1404283\n",
            "non_fire_loss 0.84895194\n"
          ],
          "name": "stdout"
        },
        {
          "output_type": "stream",
          "text": [
            "100%|██████████| 478/478 [00:05<00:00, 88.23it/s]\n",
            "  2%|▏         | 9/478 [00:00<00:05, 89.37it/s]"
          ],
          "name": "stderr"
        },
        {
          "output_type": "stream",
          "text": [
            "\n",
            "fire_loss 0.1396815\n",
            "non_fire_loss 0.8544647\n"
          ],
          "name": "stdout"
        },
        {
          "output_type": "stream",
          "text": [
            "100%|██████████| 478/478 [00:05<00:00, 90.33it/s]"
          ],
          "name": "stderr"
        },
        {
          "output_type": "stream",
          "text": [
            "\n",
            "fire_loss 0.08329383\n",
            "non_fire_loss 0.90693027\n"
          ],
          "name": "stdout"
        },
        {
          "output_type": "stream",
          "text": [
            "\n"
          ],
          "name": "stderr"
        }
      ]
    },
    {
      "cell_type": "code",
      "metadata": {
        "id": "nMZ3UmEoGD7f",
        "colab_type": "code",
        "colab": {}
      },
      "source": [
        "fire=encoder.predict(train_DF_fire.as_matrix())\n",
        "non_fire=encoder.predict(train_DF_normal.as_matrix())"
      ],
      "execution_count": 0,
      "outputs": []
    },
    {
      "cell_type": "code",
      "metadata": {
        "id": "F0JNcroQHCsb",
        "colab_type": "code",
        "colab": {
          "base_uri": "https://localhost:8080/",
          "height": 286
        },
        "outputId": "35164d8e-2a83-47fa-cbc9-22151556280a"
      },
      "source": [
        "fire=np.reshape(fire,(-1,8,8,1))\n",
        "array_to_img(fire.mean(0))\n",
        "resize_image = array_to_img(fire.mean(0)).resize((80,80))\n",
        "plt.imshow(resize_image)"
      ],
      "execution_count": 53,
      "outputs": [
        {
          "output_type": "execute_result",
          "data": {
            "text/plain": [
              "<matplotlib.image.AxesImage at 0x7fa056472470>"
            ]
          },
          "metadata": {
            "tags": []
          },
          "execution_count": 53
        },
        {
          "output_type": "display_data",
          "data": {
            "image/png": "[encoded data removed]",
            "text/plain": [
              "<Figure size 432x288 with 1 Axes>"
            ]
          },
          "metadata": {
            "tags": []
          }
        }
      ]
    },
    {
      "cell_type": "code",
      "metadata": {
        "id": "nUfM3el5L0rv",
        "colab_type": "code",
        "colab": {
          "base_uri": "https://localhost:8080/",
          "height": 286
        },
        "outputId": "aeb34cd0-7af5-4d61-cbe8-0a73880ebb1d"
      },
      "source": [
        "non_fire=np.reshape(non_fire,(-1,8,8,1))\n",
        "array_to_img(non_fire.mean(0))\n",
        "resize_image = array_to_img(non_fire.mean(0)).resize((80,80))\n",
        "plt.imshow(resize_image)"
      ],
      "execution_count": 54,
      "outputs": [
        {
          "output_type": "execute_result",
          "data": {
            "text/plain": [
              "<matplotlib.image.AxesImage at 0x7fa017954c18>"
            ]
          },
          "metadata": {
            "tags": []
          },
          "execution_count": 54
        },
        {
          "output_type": "display_data",
          "data": {
            "image/png": "[encoded data removed]",
            "text/plain": [
              "<Figure size 432x288 with 1 Axes>"
            ]
          },
          "metadata": {
            "tags": []
          }
        }
      ]
    },
    {
      "cell_type": "code",
      "metadata": {
        "id": "pkF1HVQhMAkQ",
        "colab_type": "code",
        "colab": {}
      },
      "source": [
        ""
      ],
      "execution_count": 0,
      "outputs": []
    },
    {
      "cell_type": "code",
      "metadata": {
        "id": "g5DkP0CFGFki",
        "colab_type": "code",
        "colab": {}
      },
      "source": [
        "fire=np.reshape(fire,(-1,64))\n",
        "non_fire=np.reshape(non_fire,(-1,64))\n",
        "for i in range(32):\n",
        "    print(i)\n",
        "    print(\"fire 평균\",np.mean(fire[:,i]))\n",
        "    print(\"fire 편차\",np.std(fire[:,i]))\n",
        "    print(\"non-fire 평균\",np.mean(non_fire[:,i]))\n",
        "    print(\"non-fire 편차\",np.std(non_fire[:,i]))\n",
        "    print()"
      ],
      "execution_count": 0,
      "outputs": []
    },
    {
      "cell_type": "code",
      "metadata": {
        "id": "KecHLzQr-Z23",
        "colab_type": "code",
        "colab": {}
      },
      "source": [
        "cnn_model=Sequential()\n",
        "cnn_model.add(Dense(16*16,activation='relu',input_shape=(436,)))\n",
        "cnn_model.add(Reshape((16,16,1)))\n",
        "cnn_model.add(Conv2D(2, 3, activation='elu', strides=2, padding='same'))\n",
        "cnn_model.add(Conv2D(4, 3, activation='elu', strides=2, padding='same'))\n",
        "cnn_model.add(Conv2D(8, 3, activation='elu', strides=2, padding='same'))\n",
        "cnn_model.add(Flatten())\n",
        "cnn_model.add(Dense(1,activation='sigmoid'))\n",
        "cnn_model.compile(loss=hjk_loss, metrics=['acc',f1_m, precision_m, recall_m],optimizer=Adam(0.001))"
      ],
      "execution_count": 0,
      "outputs": []
    },
    {
      "cell_type": "code",
      "metadata": {
        "id": "D4VK1dR8D2v3",
        "colab_type": "code",
        "colab": {}
      },
      "source": [
        "new_train_DF=AE_model.predict(train_DF.as_matrix())\n",
        "new_val_DF=AE_model.predict(val_DF.as_matrix())\n",
        "new_test_DF=AE_model.predict(test_DF.as_matrix())"
      ],
      "execution_count": 0,
      "outputs": []
    },
    {
      "cell_type": "code",
      "metadata": {
        "id": "7W6-zh5iEhez",
        "colab_type": "code",
        "colab": {}
      },
      "source": [
        "cnn_model.fit(new_train_DF,train_DF_Y.as_matrix(),epochs=30,validation_split=0.2)"
      ],
      "execution_count": 0,
      "outputs": []
    },
    {
      "cell_type": "code",
      "metadata": {
        "id": "ROeGWDQXFnOI",
        "colab_type": "code",
        "colab": {
          "base_uri": "https://localhost:8080/",
          "height": 54
        },
        "outputId": "a305d5f0-0560-439d-85ec-596b7cd6564f"
      },
      "source": [
        "cnn_model.evaluate(new_val_DF,val_DF_Y.as_matrix())"
      ],
      "execution_count": 24,
      "outputs": [
        {
          "output_type": "stream",
          "text": [
            "6898/6898 [==============================] - 0s 69us/sample - loss: 0.8885 - acc: 0.6284 - f1_m: 0.4071 - precision_m: 0.2943 - recall_m: 0.7363\n"
          ],
          "name": "stdout"
        },
        {
          "output_type": "execute_result",
          "data": {
            "text/plain": [
              "[0.8884753456458592, 0.628443, 0.40712819, 0.2943469, 0.73629445]"
            ]
          },
          "metadata": {
            "tags": []
          },
          "execution_count": 24
        }
      ]
    },
    {
      "cell_type": "code",
      "metadata": {
        "id": "5y9ZTusTFxYO",
        "colab_type": "code",
        "colab": {}
      },
      "source": [
        ""
      ],
      "execution_count": 0,
      "outputs": []
    }
  ]
}