{
  "nbformat": 4,
  "nbformat_minor": 0,
  "metadata": {
    "colab": {
      "name": "hjk_fire_model2.ipynb",
      "provenance": [],
      "collapsed_sections": [],
      "include_colab_link": true
    },
    "kernelspec": {
      "name": "python3",
      "display_name": "Python 3"
    },
    "accelerator": "GPU"
  },
  "cells": [
    {
      "cell_type": "markdown",
      "metadata": {
        "id": "view-in-github",
        "colab_type": "text"
      },
      "source": [
        "<a href=\"https://colab.research.google.com/github/HongJaeKwon/kimhae_fire_detection/blob/master/hjk_fire_model2.ipynb\" target=\"_parent\"><img src=\"https://colab.research.google.com/assets/colab-badge.svg\" alt=\"Open In Colab\"/></a>"
      ]
    },
    {
      "cell_type": "code",
      "metadata": {
        "id": "SV04BaxB-Lp4",
        "colab_type": "code",
        "colab": {
          "base_uri": "https://localhost:8080/",
          "height": 128
        },
        "outputId": "95d09ddd-60fe-4338-80e3-557e0ac5f3ee"
      },
      "source": [
        "# 구글 드라이브 마운트\n",
        "from google.colab import drive\n",
        "drive.mount('/gdrive', force_remount=True)\n",
        "# /gdrive/My Drive/ (폴더명)"
      ],
      "execution_count": 2,
      "outputs": [
        {
          "output_type": "stream",
          "text": [
            "Go to this URL in a browser: https://accounts.google.com/o/oauth2/auth?client_id=947318989803-6bn6qk8qdgf4n4g3pfee6491hc0brc4i.apps.googleusercontent.com&redirect_uri=urn%3aietf%3awg%3aoauth%3a2.0%3aoob&response_type=code&scope=email%20https%3a%2f%2fwww.googleapis.com%2fauth%2fdocs.test%20https%3a%2f%2fwww.googleapis.com%2fauth%2fdrive%20https%3a%2f%2fwww.googleapis.com%2fauth%2fdrive.photos.readonly%20https%3a%2f%2fwww.googleapis.com%2fauth%2fpeopleapi.readonly\n",
            "\n",
            "Enter your authorization code:\n",
            "··········\n",
            "Mounted at /gdrive\n"
          ],
          "name": "stdout"
        }
      ]
    },
    {
      "cell_type": "code",
      "metadata": {
        "id": "BaCe39CJ-V64",
        "colab_type": "code",
        "colab": {}
      },
      "source": [
        "import numpy as np\n",
        "import pandas as pd\n",
        "import warnings\n",
        "from sklearn.tree import DecisionTreeClassifier\n",
        "from sklearn.metrics import f1_score, accuracy_score, precision_score, recall_score\n",
        "from sklearn.discriminant_analysis import LinearDiscriminantAnalysis\n",
        "from  sklearn.ensemble import RandomForestClassifier\n",
        "from sklearn.linear_model import LogisticRegression\n",
        "import xgboost as xgb\n",
        "from sklearn.naive_bayes import GaussianNB\n",
        "from sklearn.svm import LinearSVC\n",
        "from sklearn.discriminant_analysis import QuadraticDiscriminantAnalysis\n",
        "from tensorflow.python import keras\n",
        "from tensorflow.python.keras import backend as K\n",
        "from tensorflow.python.keras import losses\n",
        "from tensorflow.python.keras.optimizers import Adam\n",
        "from tensorflow.python.keras.models import Sequential, Model, load_model\n",
        "from tensorflow.python.keras.layers import Conv2D, Conv2DTranspose, Activation, Flatten, Dense, UpSampling2D, Reshape, Lambda, Input,BatchNormalization, Dropout, LeakyReLU\n",
        "from tensorflow.python.keras.preprocessing.image import ImageDataGenerator, Iterator\n",
        "from tensorflow.python.keras.preprocessing.image import img_to_array, array_to_img\n",
        "from tensorflow.python.keras.losses import mean_absolute_error\n",
        "warnings.filterwarnings(action='ignore') \n",
        "from tqdm import tqdm\n",
        "import cv2\n",
        "from google.colab.patches import cv2_imshow\n",
        "from PIL import Image\n",
        "import matplotlib.pyplot as plt"
      ],
      "execution_count": 0,
      "outputs": []
    },
    {
      "cell_type": "code",
      "metadata": {
        "id": "jTa8Qtqr-YA7",
        "colab_type": "code",
        "colab": {}
      },
      "source": [
        "def recall_m(y_true, y_pred):\n",
        "    true_positives = K.sum(K.round(K.clip(y_true * y_pred, 0, 1)))\n",
        "    possible_positives = K.sum(K.round(K.clip(y_true, 0, 1)))\n",
        "    recall = true_positives / (possible_positives + K.epsilon())\n",
        "    return recall\n",
        "\n",
        "def precision_m(y_true, y_pred):\n",
        "    true_positives = K.sum(K.round(K.clip(y_true * y_pred, 0, 1)))\n",
        "    predicted_positives = K.sum(K.round(K.clip(y_pred, 0, 1)))\n",
        "    precision = true_positives / (predicted_positives + K.epsilon())\n",
        "    return precision\n",
        "\n",
        "def f1_m(y_true, y_pred):\n",
        "    precision = precision_m(y_true, y_pred)\n",
        "    recall = recall_m(y_true, y_pred)\n",
        "    return 2*((precision*recall)/(precision+recall+K.epsilon()))\n",
        "\n",
        "def hjk_loss(y_true,y_pred):\n",
        "    bce = 3*y_true * K.log(y_pred + K.epsilon())\n",
        "    bce += (1 - y_true) * K.log(1 - y_pred + K.epsilon())\n",
        "    return -bce\n",
        "\n",
        "def f1_loss(y_true, y_pred):\n",
        "    tp = K.sum(K.cast(y_true*y_pred, 'float'), axis=0)\n",
        "    tn = K.sum(K.cast((1-y_true)*(1-y_pred), 'float'), axis=0)\n",
        "    fp = K.sum(K.cast((1-y_true)*y_pred, 'float'), axis=0)\n",
        "    fn = K.sum(K.cast(y_true*(1-y_pred), 'float'), axis=0)\n",
        "    p = tp / (tp + fp + K.epsilon())\n",
        "    r = tp / (tp + fn + K.epsilon())\n",
        "    f1 = 2*p*r / (p+r+K.epsilon())\n",
        "    f1 = K.clip(f1,K.epsilon(),1-K.epsilon())\n",
        "    return 1 - K.mean(f1)   "
      ],
      "execution_count": 0,
      "outputs": []
    },
    {
      "cell_type": "code",
      "metadata": {
        "id": "J3XkPBCT-sKg",
        "colab_type": "code",
        "colab": {}
      },
      "source": [
        "def build_encoder():\n",
        "    model=Sequential()\n",
        "    model.add(Dense(32*32,activation='relu',input_shape=(436,)))\n",
        "    model.add(Reshape((32,32,1)))\n",
        "    model.add(Conv2D(2, 3, activation='elu', strides=2, padding='same'))\n",
        "    model.add(Conv2D(4, 3, activation='elu', strides=2, padding='same'))\n",
        "    model.add(Conv2D(8, 3, activation='elu', strides=2, padding='same'))\n",
        "    return model\n",
        "\n",
        "def build_decoder():\n",
        "    model=Sequential()\n",
        "    model.add(Conv2D(4, 3, activation='elu', padding='same'))\n",
        "    model.add(UpSampling2D())\n",
        "    model.add(LeakyReLU(0.2))\n",
        "    model.add(Conv2D(2, 3, activation='elu', padding='same'))\n",
        "    model.add(UpSampling2D())\n",
        "    model.add(LeakyReLU(0.2))\n",
        "    model.add(Conv2D(1, 3, activation='elu', padding='same'))\n",
        "    model.add(UpSampling2D())\n",
        "    model.add(LeakyReLU(0.2))\n",
        "    model.add(Flatten())\n",
        "    model.add(Dense(436,activation='sigmoid'))\n",
        "    return model"
      ],
      "execution_count": 0,
      "outputs": []
    },
    {
      "cell_type": "code",
      "metadata": {
        "id": "_QiDuMtf-evT",
        "colab_type": "code",
        "colab": {}
      },
      "source": [
        "all_DF= pd.read_csv('/gdrive/My Drive/김해화재/all_DF.csv',index_col=0)\n",
        "# train :59199\n",
        "# val : 6898\n",
        "# test : 2957"
      ],
      "execution_count": 0,
      "outputs": []
    },
    {
      "cell_type": "code",
      "metadata": {
        "id": "6fQQADQh-hQa",
        "colab_type": "code",
        "colab": {}
      },
      "source": [
        "train_DF=all_DF[:59199]\n",
        "val_DF=all_DF[59199:59199+6898]\n",
        "test_DF=all_DF[all_DF['LABEL']==-1]\n",
        "\n",
        "train_DF_Y=train_DF['LABEL']\n",
        "val_DF_Y=val_DF['LABEL']\n",
        "train_DF_normal=train_DF[train_DF['LABEL']==0]\n",
        "train_DF_fire=train_DF[train_DF['LABEL']==1]\n",
        "\n",
        "train_DF=train_DF.drop('LABEL', axis = 1)\n",
        "val_DF=val_DF.drop('LABEL', axis = 1)\n",
        "test_DF=test_DF.drop('LABEL', axis = 1)\n",
        "\n",
        "train_DF_normal=train_DF_normal.drop('LABEL', axis = 1)\n",
        "train_DF_fire=train_DF_fire.drop('LABEL', axis = 1)\n",
        "\n",
        "train_DF_1=train_DF[:30000]\n",
        "train_DF_Y_1=train_DF_Y[:30000]\n",
        "train_DF_2=train_DF[30000:]\n",
        "train_DF_Y_2=train_DF_Y[30000:]\n",
        "\n",
        "col_list=train_DF.columns.to_list()"
      ],
      "execution_count": 0,
      "outputs": []
    },
    {
      "cell_type": "code",
      "metadata": {
        "id": "A2-U14v2-zL-",
        "colab_type": "code",
        "colab": {}
      },
      "source": [
        "encoder = build_encoder()\n",
        "decoder = build_decoder()\n",
        "AE_model=Sequential((encoder, decoder))\n",
        "AE_model.compile(loss='mse',optimizer=Adam(0.001))\n",
        "fire_inputs = Input((436,))\n",
        "non_fire_inputs = Input((436,))\n",
        "fire_outputs = AE_model(fire_inputs)\n",
        "non_fire_outputs = AE_model(non_fire_inputs)\n",
        "\n",
        "AE_trainer=Model(inputs=[fire_inputs, non_fire_inputs],outputs=[fire_outputs, non_fire_outputs])\n",
        "AE_trainer.compile(loss=['mse', 'mse'], loss_weights=[1., -1.0], optimizer=Adam(0.001))\n",
        "\n",
        "def AE_train(fire,non_fire,epochs = 10, batch_size=16):\n",
        "    batch_count =fire.shape[0]//batch_size\n",
        "        \n",
        "    for e in range(1, epochs+1):\n",
        "        for _ in tqdm(range(batch_count)):\n",
        "            fire_batch = fire[np.random.randint(0, fire.shape[0], size=batch_size)]\n",
        "            non_fire_batch = non_fire[np.random.randint(0, non_fire.shape[0], size=batch_size)]\n",
        "            _,fire_loss, non_fire_loss = AE_trainer.train_on_batch([fire_batch, non_fire_batch], [fire_batch, non_fire_batch])\n",
        "        print(\"\")\n",
        "        print(\"fire_loss\", fire_loss)\n",
        "        print(\"non_fire_loss\", non_fire_loss)"
      ],
      "execution_count": 0,
      "outputs": []
    },
    {
      "cell_type": "code",
      "metadata": {
        "id": "vJfOLPDZ_2Ri",
        "colab_type": "code",
        "colab": {}
      },
      "source": [
        "AE_train(train_DF_fire.as_matrix(),train_DF_normal.as_matrix(),epochs=50)"
      ],
      "execution_count": 0,
      "outputs": []
    },
    {
      "cell_type": "code",
      "metadata": {
        "id": "nMZ3UmEoGD7f",
        "colab_type": "code",
        "colab": {}
      },
      "source": [
        "fire=encoder.predict(train_DF_fire.as_matrix())\n",
        "non_fire=encoder.predict(train_DF_normal.as_matrix())"
      ],
      "execution_count": 0,
      "outputs": []
    },
    {
      "cell_type": "code",
      "metadata": {
        "id": "3XvIVJluP8u-",
        "colab_type": "code",
        "colab": {
          "base_uri": "https://localhost:8080/",
          "height": 191
        },
        "outputId": "e82a64fa-925e-4e41-b31e-b36c835f5141"
      },
      "source": [
        "fig = plt.figure(figsize=(15,6))\n",
        "rows = 1\n",
        "cols = 5\n",
        "fire=np.reshape(fire,(-1,8,8,1))\n",
        "fire_batch = fire[np.random.randint(0, fire.shape[0], size=4)]\n",
        "\n",
        "resize_image = array_to_img(fire.mean(0)).resize((80,80))\n",
        "ax = fig.add_subplot(rows, cols,1)\n",
        "ax.imshow(resize_image,cmap='Greys')\n",
        "ax.set_title('average')\n",
        "ax.axis(\"off\") \n",
        "\n",
        "for i in range(cols-1):\n",
        "    resize_image = array_to_img(fire_batch[i]).resize((80,80))\n",
        "    ax = fig.add_subplot(rows, cols, i+2)\n",
        "    ax.imshow(resize_image,cmap='Greys')\n",
        "    ax.set_title(str(i))\n",
        "    ax.axis(\"off\")    "
      ],
      "execution_count": 93,
      "outputs": [
        {
          "output_type": "display_data",
          "data": {
            "image/png": "[encoded data removed]",
            "text/plain": [
              "<Figure size 1080x432 with 5 Axes>"
            ]
          },
          "metadata": {
            "tags": []
          }
        }
      ]
    },
    {
      "cell_type": "code",
      "metadata": {
        "id": "F0JNcroQHCsb",
        "colab_type": "code",
        "colab": {
          "base_uri": "https://localhost:8080/",
          "height": 191
        },
        "outputId": "3c15efb1-b9c5-4834-b48b-1d1ca399a1a7"
      },
      "source": [
        "fig = plt.figure(figsize=(15,6))\n",
        "rows = 1\n",
        "cols = 5\n",
        "non_fire=np.reshape(non_fire,(-1,8,8,1))\n",
        "non_fire_batch = non_fire[np.random.randint(0, non_fire.shape[0], size=4)]\n",
        "\n",
        "resize_image = array_to_img(non_fire.mean(0)).resize((80,80))\n",
        "ax = fig.add_subplot(rows, cols,1)\n",
        "ax.imshow(resize_image,cmap='Greys')\n",
        "ax.set_title('average')\n",
        "ax.axis(\"off\") \n",
        "\n",
        "for i in range(cols-1):\n",
        "    resize_image = array_to_img(non_fire_batch[i]).resize((80,80))\n",
        "    ax = fig.add_subplot(rows, cols, i+2)\n",
        "    ax.imshow(resize_image,cmap='Greys')\n",
        "    ax.set_title(str(i))\n",
        "    ax.axis(\"off\")   "
      ],
      "execution_count": 94,
      "outputs": [
        {
          "output_type": "display_data",
          "data": {
            "image/png": "[encoded data removed]",
            "text/plain": [
              "<Figure size 1080x432 with 5 Axes>"
            ]
          },
          "metadata": {
            "tags": []
          }
        }
      ]
    },
    {
      "cell_type": "code",
      "metadata": {
        "id": "g5DkP0CFGFki",
        "colab_type": "code",
        "colab": {
          "base_uri": "https://localhost:8080/",
          "height": 1000
        },
        "outputId": "be6c6a89-7d8c-4617-e676-994c131f7d3b"
      },
      "source": [
        "fire=np.reshape(fire,(-1,64))\n",
        "non_fire=np.reshape(non_fire,(-1,64))\n",
        "for i in range(32):\n",
        "    print(i)\n",
        "    print(\"fire 평균\",np.mean(fire[:,i]))\n",
        "    print(\"fire 편차\",np.std(fire[:,i]))\n",
        "    print(\"non-fire 평균\",np.mean(non_fire[:,i]))\n",
        "    print(\"non-fire 편차\",np.std(non_fire[:,i]))\n",
        "    print()"
      ],
      "execution_count": 84,
      "outputs": [
        {
          "output_type": "stream",
          "text": [
            "0\n",
            "fire 평균 -0.016376752\n",
            "fire 편차 1.1104034\n",
            "non-fire 평균 1.4390091\n",
            "non-fire 편차 1.3939914\n",
            "\n",
            "1\n",
            "fire 평균 -0.25282434\n",
            "fire 편차 1.2465001\n",
            "non-fire 평균 1.200783\n",
            "non-fire 편차 2.2751598\n",
            "\n",
            "2\n",
            "fire 평균 -0.14732201\n",
            "fire 편차 0.81389135\n",
            "non-fire 평균 -0.11689751\n",
            "non-fire 편차 0.69184804\n",
            "\n",
            "3\n",
            "fire 평균 0.08842026\n",
            "fire 편차 0.53669703\n",
            "non-fire 평균 0.029029725\n",
            "non-fire 편차 0.54035074\n",
            "\n",
            "4\n",
            "fire 평균 -0.08585814\n",
            "fire 편차 1.2573465\n",
            "non-fire 평균 2.0076942\n",
            "non-fire 편차 1.9634624\n",
            "\n",
            "5\n",
            "fire 평균 0.27162948\n",
            "fire 편차 1.1488984\n",
            "non-fire 평균 1.6217449\n",
            "non-fire 편차 1.5288312\n",
            "\n",
            "6\n",
            "fire 평균 1.4494922\n",
            "fire 편차 2.009224\n",
            "non-fire 평균 0.4493365\n",
            "non-fire 편차 1.6801482\n",
            "\n",
            "7\n",
            "fire 평균 0.038995113\n",
            "fire 편차 0.9431668\n",
            "non-fire 평균 -0.15505147\n",
            "non-fire 편차 0.8032179\n",
            "\n",
            "8\n",
            "fire 평균 0.6070339\n",
            "fire 편차 0.85348815\n",
            "non-fire 평균 -0.2170983\n",
            "non-fire 편차 0.7040354\n",
            "\n",
            "9\n",
            "fire 평균 0.86075455\n",
            "fire 편차 2.0698867\n",
            "non-fire 평균 -0.62952566\n",
            "non-fire 편차 1.0016288\n",
            "\n",
            "10\n",
            "fire 평균 -0.12624584\n",
            "fire 편차 0.8288101\n",
            "non-fire 평균 -0.42405707\n",
            "non-fire 편차 0.54920596\n",
            "\n",
            "11\n",
            "fire 평균 0.110202916\n",
            "fire 편차 0.4900909\n",
            "non-fire 평균 0.05170965\n",
            "non-fire 편차 0.4522675\n",
            "\n",
            "12\n",
            "fire 평균 0.97252184\n",
            "fire 편차 1.7252414\n",
            "non-fire 평균 -0.4579927\n",
            "non-fire 편차 0.9904413\n",
            "\n",
            "13\n",
            "fire 평균 1.0412636\n",
            "fire 편차 1.2696316\n",
            "non-fire 평균 0.4487165\n",
            "non-fire 편차 1.0360041\n",
            "\n",
            "14\n",
            "fire 평균 0.06114593\n",
            "fire 편차 1.276411\n",
            "non-fire 평균 1.7161111\n",
            "non-fire 편차 1.7419924\n",
            "\n",
            "15\n",
            "fire 평균 -0.099010885\n",
            "fire 편차 0.73709536\n",
            "non-fire 평균 -0.41978982\n",
            "non-fire 편차 0.56081057\n",
            "\n",
            "16\n",
            "fire 평균 -0.3802572\n",
            "fire 편차 0.7169841\n",
            "non-fire 평균 0.55026424\n",
            "non-fire 편차 1.1243879\n",
            "\n",
            "17\n",
            "fire 평균 -0.5138465\n",
            "fire 편차 0.99946475\n",
            "non-fire 평균 1.9441509\n",
            "non-fire 편차 2.2376752\n",
            "\n",
            "18\n",
            "fire 평균 -0.31347808\n",
            "fire 편차 0.5742099\n",
            "non-fire 평균 0.10315276\n",
            "non-fire 편차 0.64466083\n",
            "\n",
            "19\n",
            "fire 평균 -0.18332751\n",
            "fire 편차 0.4756698\n",
            "non-fire 평균 -0.12400258\n",
            "non-fire 편차 0.3808356\n",
            "\n",
            "20\n",
            "fire 평균 -0.5084785\n",
            "fire 편차 0.87903404\n",
            "non-fire 평균 1.6668599\n",
            "non-fire 편차 1.824867\n",
            "\n",
            "21\n",
            "fire 평균 -0.15174404\n",
            "fire 편차 0.8353225\n",
            "non-fire 평균 0.78795516\n",
            "non-fire 편차 1.1776046\n",
            "\n",
            "22\n",
            "fire 평균 1.3622981\n",
            "fire 편차 1.7049159\n",
            "non-fire 평균 -0.27633786\n",
            "non-fire 편차 1.0594378\n",
            "\n",
            "23\n",
            "fire 평균 0.12379437\n",
            "fire 편차 0.9360571\n",
            "non-fire 평균 0.16024104\n",
            "non-fire 편차 0.97864294\n",
            "\n",
            "24\n",
            "fire 평균 -0.374375\n",
            "fire 편차 0.4656934\n",
            "non-fire 평균 0.12675332\n",
            "non-fire 편차 0.84179586\n",
            "\n",
            "25\n",
            "fire 평균 1.1491414\n",
            "fire 편차 1.4476377\n",
            "non-fire 평균 -0.33225948\n",
            "non-fire 편차 1.0886655\n",
            "\n",
            "26\n",
            "fire 평균 -0.49401447\n",
            "fire 편차 0.44610244\n",
            "non-fire 평균 -0.3679026\n",
            "non-fire 편차 0.37945074\n",
            "\n",
            "27\n",
            "fire 평균 -0.3348436\n",
            "fire 편차 0.46081588\n",
            "non-fire 평균 0.098502375\n",
            "non-fire 편차 0.49725288\n",
            "\n",
            "28\n",
            "fire 평균 0.3526725\n",
            "fire 편차 0.76867753\n",
            "non-fire 평균 -0.10265152\n",
            "non-fire 편차 0.6688979\n",
            "\n",
            "29\n",
            "fire 평균 -0.26031807\n",
            "fire 편차 0.55030745\n",
            "non-fire 평균 0.49465838\n",
            "non-fire 편차 0.689549\n",
            "\n",
            "30\n",
            "fire 평균 -0.26000443\n",
            "fire 편차 0.8937314\n",
            "non-fire 평균 1.1921254\n",
            "non-fire 편차 1.221726\n",
            "\n",
            "31\n",
            "fire 평균 0.08049991\n",
            "fire 편차 0.55371594\n",
            "non-fire 평균 -0.17442228\n",
            "non-fire 편차 0.4663665\n",
            "\n"
          ],
          "name": "stdout"
        }
      ]
    },
    {
      "cell_type": "code",
      "metadata": {
        "id": "KecHLzQr-Z23",
        "colab_type": "code",
        "colab": {}
      },
      "source": [
        "cnn_model=Sequential()\n",
        "cnn_model.add(Dense(16*16,activation='relu',input_shape=(436,)))\n",
        "cnn_model.add(Reshape((16,16,1)))\n",
        "cnn_model.add(Conv2D(2, 3, activation='elu', strides=2, padding='same'))\n",
        "cnn_model.add(Conv2D(4, 3, activation='elu', strides=2, padding='same'))\n",
        "cnn_model.add(Conv2D(8, 3, activation='elu', strides=2, padding='same'))\n",
        "cnn_model.add(Flatten())\n",
        "cnn_model.add(Dense(1,activation='sigmoid'))\n",
        "cnn_model.compile(loss=hjk_loss, metrics=['acc',f1_m, precision_m, recall_m],optimizer=Adam(0.001))"
      ],
      "execution_count": 0,
      "outputs": []
    },
    {
      "cell_type": "code",
      "metadata": {
        "id": "D4VK1dR8D2v3",
        "colab_type": "code",
        "colab": {}
      },
      "source": [
        "new_train_DF=AE_model.predict(train_DF.as_matrix())\n",
        "new_val_DF=AE_model.predict(val_DF.as_matrix())\n",
        "new_test_DF=AE_model.predict(test_DF.as_matrix())"
      ],
      "execution_count": 0,
      "outputs": []
    },
    {
      "cell_type": "code",
      "metadata": {
        "id": "7W6-zh5iEhez",
        "colab_type": "code",
        "colab": {
          "base_uri": "https://localhost:8080/",
          "height": 1000
        },
        "outputId": "cf1cff79-3141-4f25-8ff4-171d228e0788"
      },
      "source": [
        "cnn_model.fit(new_train_DF,train_DF_Y.as_matrix(),epochs=30,validation_split=0.2)"
      ],
      "execution_count": 87,
      "outputs": [
        {
          "output_type": "stream",
          "text": [
            "Train on 47359 samples, validate on 11840 samples\n",
            "Epoch 1/30\n",
            "47359/47359 [==============================] - 8s 169us/sample - loss: 0.4731 - acc: 0.8353 - f1_m: 0.5069 - precision_m: 0.3958 - recall_m: 0.7971 - val_loss: 0.6381 - val_acc: 0.7328 - val_f1_m: 0.5499 - val_precision_m: 0.4082 - val_recall_m: 0.9127\n",
            "Epoch 2/30\n",
            "47359/47359 [==============================] - 8s 159us/sample - loss: 0.4649 - acc: 0.8397 - f1_m: 0.5043 - precision_m: 0.3992 - recall_m: 0.7782 - val_loss: 0.6308 - val_acc: 0.7391 - val_f1_m: 0.5465 - val_precision_m: 0.4104 - val_recall_m: 0.8870\n",
            "Epoch 3/30\n",
            "47359/47359 [==============================] - 7s 155us/sample - loss: 0.4615 - acc: 0.8361 - f1_m: 0.5070 - precision_m: 0.3964 - recall_m: 0.7981 - val_loss: 0.6251 - val_acc: 0.7392 - val_f1_m: 0.5529 - val_precision_m: 0.4125 - val_recall_m: 0.8995\n",
            "Epoch 4/30\n",
            "47359/47359 [==============================] - 7s 158us/sample - loss: 0.4603 - acc: 0.8367 - f1_m: 0.5097 - precision_m: 0.3973 - recall_m: 0.8034 - val_loss: 0.6291 - val_acc: 0.7383 - val_f1_m: 0.5530 - val_precision_m: 0.4114 - val_recall_m: 0.9038\n",
            "Epoch 5/30\n",
            "47359/47359 [==============================] - 7s 158us/sample - loss: 0.4587 - acc: 0.8406 - f1_m: 0.5087 - precision_m: 0.4039 - recall_m: 0.7878 - val_loss: 0.6444 - val_acc: 0.7356 - val_f1_m: 0.5552 - val_precision_m: 0.4140 - val_recall_m: 0.9202\n",
            "Epoch 6/30\n",
            "47359/47359 [==============================] - 7s 156us/sample - loss: 0.4587 - acc: 0.8413 - f1_m: 0.5115 - precision_m: 0.4050 - recall_m: 0.7880 - val_loss: 0.6244 - val_acc: 0.7362 - val_f1_m: 0.5533 - val_precision_m: 0.4117 - val_recall_m: 0.9163\n",
            "Epoch 7/30\n",
            "47359/47359 [==============================] - 7s 156us/sample - loss: 0.4579 - acc: 0.8412 - f1_m: 0.5104 - precision_m: 0.4058 - recall_m: 0.7919 - val_loss: 0.6238 - val_acc: 0.7440 - val_f1_m: 0.5490 - val_precision_m: 0.4158 - val_recall_m: 0.8734\n",
            "Epoch 8/30\n",
            "47359/47359 [==============================] - 7s 156us/sample - loss: 0.4566 - acc: 0.8425 - f1_m: 0.5157 - precision_m: 0.4085 - recall_m: 0.7976 - val_loss: 0.6237 - val_acc: 0.7413 - val_f1_m: 0.5549 - val_precision_m: 0.4158 - val_recall_m: 0.9016\n",
            "Epoch 9/30\n",
            "47359/47359 [==============================] - 7s 154us/sample - loss: 0.4545 - acc: 0.8426 - f1_m: 0.5159 - precision_m: 0.4087 - recall_m: 0.7947 - val_loss: 0.6364 - val_acc: 0.7385 - val_f1_m: 0.5555 - val_precision_m: 0.4128 - val_recall_m: 0.9103\n",
            "Epoch 10/30\n",
            "47359/47359 [==============================] - 8s 159us/sample - loss: 0.4547 - acc: 0.8437 - f1_m: 0.5135 - precision_m: 0.4089 - recall_m: 0.7897 - val_loss: 0.6261 - val_acc: 0.7432 - val_f1_m: 0.5559 - val_precision_m: 0.4186 - val_recall_m: 0.8912\n",
            "Epoch 11/30\n",
            "47359/47359 [==============================] - 7s 153us/sample - loss: 0.4525 - acc: 0.8430 - f1_m: 0.5144 - precision_m: 0.4072 - recall_m: 0.7941 - val_loss: 0.6242 - val_acc: 0.7384 - val_f1_m: 0.5546 - val_precision_m: 0.4125 - val_recall_m: 0.9090\n",
            "Epoch 12/30\n",
            "47359/47359 [==============================] - 7s 158us/sample - loss: 0.4525 - acc: 0.8454 - f1_m: 0.5202 - precision_m: 0.4149 - recall_m: 0.7915 - val_loss: 0.6287 - val_acc: 0.7406 - val_f1_m: 0.5538 - val_precision_m: 0.4129 - val_recall_m: 0.8978\n",
            "Epoch 13/30\n",
            "47359/47359 [==============================] - 7s 153us/sample - loss: 0.4512 - acc: 0.8469 - f1_m: 0.5180 - precision_m: 0.4123 - recall_m: 0.7880 - val_loss: 0.6238 - val_acc: 0.7514 - val_f1_m: 0.5565 - val_precision_m: 0.4248 - val_recall_m: 0.8688\n",
            "Epoch 14/30\n",
            "47359/47359 [==============================] - 7s 157us/sample - loss: 0.4503 - acc: 0.8473 - f1_m: 0.5194 - precision_m: 0.4172 - recall_m: 0.7900 - val_loss: 0.6314 - val_acc: 0.7399 - val_f1_m: 0.5542 - val_precision_m: 0.4153 - val_recall_m: 0.9048\n",
            "Epoch 15/30\n",
            "47359/47359 [==============================] - 7s 156us/sample - loss: 0.4500 - acc: 0.8471 - f1_m: 0.5222 - precision_m: 0.4164 - recall_m: 0.7919 - val_loss: 0.6274 - val_acc: 0.7405 - val_f1_m: 0.5489 - val_precision_m: 0.4118 - val_recall_m: 0.8972\n",
            "Epoch 16/30\n",
            "47359/47359 [==============================] - 7s 158us/sample - loss: 0.4483 - acc: 0.8482 - f1_m: 0.5178 - precision_m: 0.4139 - recall_m: 0.7815 - val_loss: 0.6303 - val_acc: 0.7701 - val_f1_m: 0.5516 - val_precision_m: 0.4434 - val_recall_m: 0.7886\n",
            "Epoch 17/30\n",
            "47359/47359 [==============================] - 8s 159us/sample - loss: 0.4478 - acc: 0.8496 - f1_m: 0.5248 - precision_m: 0.4194 - recall_m: 0.7873 - val_loss: 0.6251 - val_acc: 0.7453 - val_f1_m: 0.5548 - val_precision_m: 0.4200 - val_recall_m: 0.8795\n",
            "Epoch 18/30\n",
            "47359/47359 [==============================] - 7s 157us/sample - loss: 0.4463 - acc: 0.8505 - f1_m: 0.5230 - precision_m: 0.4206 - recall_m: 0.7851 - val_loss: 0.6286 - val_acc: 0.7439 - val_f1_m: 0.5568 - val_precision_m: 0.4193 - val_recall_m: 0.8895\n",
            "Epoch 19/30\n",
            "47359/47359 [==============================] - 7s 157us/sample - loss: 0.4460 - acc: 0.8501 - f1_m: 0.5240 - precision_m: 0.4211 - recall_m: 0.7842 - val_loss: 0.6351 - val_acc: 0.7530 - val_f1_m: 0.5554 - val_precision_m: 0.4253 - val_recall_m: 0.8634\n",
            "Epoch 20/30\n",
            "47359/47359 [==============================] - 7s 155us/sample - loss: 0.4433 - acc: 0.8520 - f1_m: 0.5212 - precision_m: 0.4206 - recall_m: 0.7749 - val_loss: 0.6304 - val_acc: 0.7419 - val_f1_m: 0.5575 - val_precision_m: 0.4169 - val_recall_m: 0.8994\n",
            "Epoch 21/30\n",
            "47359/47359 [==============================] - 7s 158us/sample - loss: 0.4424 - acc: 0.8521 - f1_m: 0.5286 - precision_m: 0.4274 - recall_m: 0.7846 - val_loss: 0.6413 - val_acc: 0.7367 - val_f1_m: 0.5537 - val_precision_m: 0.4133 - val_recall_m: 0.9040\n",
            "Epoch 22/30\n",
            "47359/47359 [==============================] - 8s 161us/sample - loss: 0.4406 - acc: 0.8528 - f1_m: 0.5249 - precision_m: 0.4225 - recall_m: 0.7779 - val_loss: 0.6407 - val_acc: 0.7538 - val_f1_m: 0.5505 - val_precision_m: 0.4254 - val_recall_m: 0.8483\n",
            "Epoch 23/30\n",
            "47359/47359 [==============================] - 7s 155us/sample - loss: 0.4402 - acc: 0.8545 - f1_m: 0.5277 - precision_m: 0.4282 - recall_m: 0.7719 - val_loss: 0.6414 - val_acc: 0.7468 - val_f1_m: 0.5510 - val_precision_m: 0.4189 - val_recall_m: 0.8729\n",
            "Epoch 24/30\n",
            "47359/47359 [==============================] - 7s 156us/sample - loss: 0.4395 - acc: 0.8570 - f1_m: 0.5313 - precision_m: 0.4326 - recall_m: 0.7779 - val_loss: 0.6493 - val_acc: 0.7395 - val_f1_m: 0.5547 - val_precision_m: 0.4128 - val_recall_m: 0.9075\n",
            "Epoch 25/30\n",
            "47359/47359 [==============================] - 8s 162us/sample - loss: 0.4384 - acc: 0.8551 - f1_m: 0.5292 - precision_m: 0.4303 - recall_m: 0.7765 - val_loss: 0.6467 - val_acc: 0.7478 - val_f1_m: 0.5543 - val_precision_m: 0.4208 - val_recall_m: 0.8819\n",
            "Epoch 26/30\n",
            "47359/47359 [==============================] - 8s 163us/sample - loss: 0.4374 - acc: 0.8579 - f1_m: 0.5383 - precision_m: 0.4407 - recall_m: 0.7799 - val_loss: 0.6476 - val_acc: 0.7479 - val_f1_m: 0.5538 - val_precision_m: 0.4177 - val_recall_m: 0.8865\n",
            "Epoch 27/30\n",
            "47359/47359 [==============================] - 8s 162us/sample - loss: 0.4365 - acc: 0.8566 - f1_m: 0.5347 - precision_m: 0.4337 - recall_m: 0.7880 - val_loss: 0.6635 - val_acc: 0.7434 - val_f1_m: 0.5529 - val_precision_m: 0.4166 - val_recall_m: 0.8913\n",
            "Epoch 28/30\n",
            "47359/47359 [==============================] - 8s 161us/sample - loss: 0.4369 - acc: 0.8585 - f1_m: 0.5338 - precision_m: 0.4384 - recall_m: 0.7742 - val_loss: 0.6533 - val_acc: 0.7568 - val_f1_m: 0.5572 - val_precision_m: 0.4305 - val_recall_m: 0.8413\n",
            "Epoch 29/30\n",
            "47359/47359 [==============================] - 7s 157us/sample - loss: 0.4351 - acc: 0.8590 - f1_m: 0.5363 - precision_m: 0.4396 - recall_m: 0.7765 - val_loss: 0.6733 - val_acc: 0.7500 - val_f1_m: 0.5536 - val_precision_m: 0.4220 - val_recall_m: 0.8688\n",
            "Epoch 30/30\n",
            "47359/47359 [==============================] - 7s 156us/sample - loss: 0.4340 - acc: 0.8607 - f1_m: 0.5353 - precision_m: 0.4430 - recall_m: 0.7689 - val_loss: 0.6536 - val_acc: 0.7590 - val_f1_m: 0.5525 - val_precision_m: 0.4265 - val_recall_m: 0.8385\n"
          ],
          "name": "stdout"
        },
        {
          "output_type": "execute_result",
          "data": {
            "text/plain": [
              "<tensorflow.python.keras.callbacks.History at 0x7fa016cb4cc0>"
            ]
          },
          "metadata": {
            "tags": []
          },
          "execution_count": 87
        }
      ]
    },
    {
      "cell_type": "code",
      "metadata": {
        "id": "ROeGWDQXFnOI",
        "colab_type": "code",
        "colab": {
          "base_uri": "https://localhost:8080/",
          "height": 54
        },
        "outputId": "6ffebf71-ad20-4973-e188-48154f511e0e"
      },
      "source": [
        "cnn_model.evaluate(new_val_DF,val_DF_Y.as_matrix())"
      ],
      "execution_count": 88,
      "outputs": [
        {
          "output_type": "stream",
          "text": [
            "6898/6898 [==============================] - 1s 74us/sample - loss: 0.9192 - acc: 0.5918 - f1_m: 0.4092 - precision_m: 0.2842 - recall_m: 0.8062\n"
          ],
          "name": "stdout"
        },
        {
          "output_type": "execute_result",
          "data": {
            "text/plain": [
              "[0.919243024722083, 0.5917657, 0.40920284, 0.2842357, 0.8062429]"
            ]
          },
          "metadata": {
            "tags": []
          },
          "execution_count": 88
        }
      ]
    },
    {
      "cell_type": "code",
      "metadata": {
        "id": "C5A-mwd6UoKI",
        "colab_type": "code",
        "colab": {}
      },
      "source": [
        "y_pred=np.round(cnn_model.predict(new_test_DF))"
      ],
      "execution_count": 0,
      "outputs": []
    },
    {
      "cell_type": "code",
      "metadata": {
        "id": "5y9ZTusTFxYO",
        "colab_type": "code",
        "colab": {}
      },
      "source": [
        "sub = pd.read_csv('/gdrive/My Drive/김해화재/PJT002_submission.csv')\n",
        "sub['fr_yn'] = y_pred\n",
        "sub['fr_yn'] = sub['fr_yn'].map({0:'N', 1:'Y'})\n",
        "sub.to_csv('/gdrive/My Drive/김해화재/PJT002_submission_hjk_AE1.csv', index=False)"
      ],
      "execution_count": 0,
      "outputs": []
    }
  ]
}